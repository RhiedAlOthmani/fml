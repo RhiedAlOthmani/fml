{
 "cells": [
  {
   "cell_type": "markdown",
   "metadata": {},
   "source": []
  },
  {
   "cell_type": "code",
   "execution_count": 4,
   "metadata": {},
   "outputs": [
    {
     "data": {
      "text/html": [
       "<div>\n",
       "<style scoped>\n",
       "    .dataframe tbody tr th:only-of-type {\n",
       "        vertical-align: middle;\n",
       "    }\n",
       "\n",
       "    .dataframe tbody tr th {\n",
       "        vertical-align: top;\n",
       "    }\n",
       "\n",
       "    .dataframe thead th {\n",
       "        text-align: right;\n",
       "    }\n",
       "</style>\n",
       "<table border=\"1\" class=\"dataframe\">\n",
       "  <thead>\n",
       "    <tr style=\"text-align: right;\">\n",
       "      <th></th>\n",
       "      <th>id</th>\n",
       "      <th>url</th>\n",
       "      <th>n_tokens_title</th>\n",
       "      <th>n_tokens_content</th>\n",
       "      <th>num_imgs</th>\n",
       "      <th>num_videos</th>\n",
       "      <th>average_token_length</th>\n",
       "      <th>data_channel_is_lifestyle</th>\n",
       "      <th>data_channel_is_entertainment</th>\n",
       "      <th>data_channel_is_bus</th>\n",
       "      <th>...</th>\n",
       "      <th>weekday_is_friday</th>\n",
       "      <th>weekday_is_saturday</th>\n",
       "      <th>weekday_is_sunday</th>\n",
       "      <th>is_weekend</th>\n",
       "      <th>global_subjectivity</th>\n",
       "      <th>global_sentiment_polarity</th>\n",
       "      <th>title_subjectivity</th>\n",
       "      <th>title_sentiment_polarity</th>\n",
       "      <th>shares</th>\n",
       "      <th>shares_log</th>\n",
       "    </tr>\n",
       "  </thead>\n",
       "  <tbody>\n",
       "    <tr>\n",
       "      <td>0</td>\n",
       "      <td>1</td>\n",
       "      <td>http://mashable.com/2013/10/29/ashton-kutcher-...</td>\n",
       "      <td>10</td>\n",
       "      <td>821</td>\n",
       "      <td>12</td>\n",
       "      <td>0</td>\n",
       "      <td>4.518879</td>\n",
       "      <td>0</td>\n",
       "      <td>0</td>\n",
       "      <td>0</td>\n",
       "      <td>...</td>\n",
       "      <td>0</td>\n",
       "      <td>0</td>\n",
       "      <td>0</td>\n",
       "      <td>0</td>\n",
       "      <td>0.439379</td>\n",
       "      <td>0.082486</td>\n",
       "      <td>0.666667</td>\n",
       "      <td>0.375</td>\n",
       "      <td>2100</td>\n",
       "      <td>3.322219</td>\n",
       "    </tr>\n",
       "    <tr>\n",
       "      <td>1</td>\n",
       "      <td>2</td>\n",
       "      <td>http://mashable.com/2014/09/08/mashies-sept-19...</td>\n",
       "      <td>9</td>\n",
       "      <td>489</td>\n",
       "      <td>6</td>\n",
       "      <td>0</td>\n",
       "      <td>5.040900</td>\n",
       "      <td>0</td>\n",
       "      <td>0</td>\n",
       "      <td>0</td>\n",
       "      <td>...</td>\n",
       "      <td>0</td>\n",
       "      <td>0</td>\n",
       "      <td>0</td>\n",
       "      <td>0</td>\n",
       "      <td>0.300454</td>\n",
       "      <td>0.027715</td>\n",
       "      <td>0.000000</td>\n",
       "      <td>0.000</td>\n",
       "      <td>274</td>\n",
       "      <td>2.437751</td>\n",
       "    </tr>\n",
       "    <tr>\n",
       "      <td>2</td>\n",
       "      <td>3</td>\n",
       "      <td>http://mashable.com/2013/02/01/hello-kitty-roc...</td>\n",
       "      <td>11</td>\n",
       "      <td>131</td>\n",
       "      <td>0</td>\n",
       "      <td>1</td>\n",
       "      <td>4.877863</td>\n",
       "      <td>0</td>\n",
       "      <td>0</td>\n",
       "      <td>0</td>\n",
       "      <td>...</td>\n",
       "      <td>1</td>\n",
       "      <td>0</td>\n",
       "      <td>0</td>\n",
       "      <td>0</td>\n",
       "      <td>0.575486</td>\n",
       "      <td>0.259120</td>\n",
       "      <td>0.000000</td>\n",
       "      <td>0.000</td>\n",
       "      <td>1500</td>\n",
       "      <td>3.176091</td>\n",
       "    </tr>\n",
       "    <tr>\n",
       "      <td>3</td>\n",
       "      <td>4</td>\n",
       "      <td>http://mashable.com/2014/02/06/add-us-on-snapc...</td>\n",
       "      <td>8</td>\n",
       "      <td>556</td>\n",
       "      <td>2</td>\n",
       "      <td>0</td>\n",
       "      <td>4.974820</td>\n",
       "      <td>0</td>\n",
       "      <td>0</td>\n",
       "      <td>1</td>\n",
       "      <td>...</td>\n",
       "      <td>0</td>\n",
       "      <td>0</td>\n",
       "      <td>0</td>\n",
       "      <td>0</td>\n",
       "      <td>0.327220</td>\n",
       "      <td>0.134424</td>\n",
       "      <td>0.000000</td>\n",
       "      <td>0.000</td>\n",
       "      <td>2000</td>\n",
       "      <td>3.301030</td>\n",
       "    </tr>\n",
       "    <tr>\n",
       "      <td>4</td>\n",
       "      <td>5</td>\n",
       "      <td>http://mashable.com/2014/01/07/lindsey-vonn-wi...</td>\n",
       "      <td>9</td>\n",
       "      <td>880</td>\n",
       "      <td>18</td>\n",
       "      <td>0</td>\n",
       "      <td>4.928409</td>\n",
       "      <td>0</td>\n",
       "      <td>0</td>\n",
       "      <td>0</td>\n",
       "      <td>...</td>\n",
       "      <td>0</td>\n",
       "      <td>0</td>\n",
       "      <td>0</td>\n",
       "      <td>0</td>\n",
       "      <td>0.507709</td>\n",
       "      <td>0.109256</td>\n",
       "      <td>0.000000</td>\n",
       "      <td>0.000</td>\n",
       "      <td>6000</td>\n",
       "      <td>3.778151</td>\n",
       "    </tr>\n",
       "  </tbody>\n",
       "</table>\n",
       "<p>5 rows × 27 columns</p>\n",
       "</div>"
      ],
      "text/plain": [
       "   id                                                url  n_tokens_title  \\\n",
       "0   1  http://mashable.com/2013/10/29/ashton-kutcher-...              10   \n",
       "1   2  http://mashable.com/2014/09/08/mashies-sept-19...               9   \n",
       "2   3  http://mashable.com/2013/02/01/hello-kitty-roc...              11   \n",
       "3   4  http://mashable.com/2014/02/06/add-us-on-snapc...               8   \n",
       "4   5  http://mashable.com/2014/01/07/lindsey-vonn-wi...               9   \n",
       "\n",
       "   n_tokens_content  num_imgs  num_videos  average_token_length  \\\n",
       "0               821        12           0              4.518879   \n",
       "1               489         6           0              5.040900   \n",
       "2               131         0           1              4.877863   \n",
       "3               556         2           0              4.974820   \n",
       "4               880        18           0              4.928409   \n",
       "\n",
       "   data_channel_is_lifestyle  data_channel_is_entertainment  \\\n",
       "0                          0                              0   \n",
       "1                          0                              0   \n",
       "2                          0                              0   \n",
       "3                          0                              0   \n",
       "4                          0                              0   \n",
       "\n",
       "   data_channel_is_bus  ...  weekday_is_friday  weekday_is_saturday  \\\n",
       "0                    0  ...                  0                    0   \n",
       "1                    0  ...                  0                    0   \n",
       "2                    0  ...                  1                    0   \n",
       "3                    1  ...                  0                    0   \n",
       "4                    0  ...                  0                    0   \n",
       "\n",
       "   weekday_is_sunday  is_weekend  global_subjectivity  \\\n",
       "0                  0           0             0.439379   \n",
       "1                  0           0             0.300454   \n",
       "2                  0           0             0.575486   \n",
       "3                  0           0             0.327220   \n",
       "4                  0           0             0.507709   \n",
       "\n",
       "   global_sentiment_polarity  title_subjectivity  title_sentiment_polarity  \\\n",
       "0                   0.082486            0.666667                     0.375   \n",
       "1                   0.027715            0.000000                     0.000   \n",
       "2                   0.259120            0.000000                     0.000   \n",
       "3                   0.134424            0.000000                     0.000   \n",
       "4                   0.109256            0.000000                     0.000   \n",
       "\n",
       "   shares  shares_log  \n",
       "0    2100    3.322219  \n",
       "1     274    2.437751  \n",
       "2    1500    3.176091  \n",
       "3    2000    3.301030  \n",
       "4    6000    3.778151  \n",
       "\n",
       "[5 rows x 27 columns]"
      ]
     },
     "execution_count": 4,
     "metadata": {},
     "output_type": "execute_result"
    }
   ],
   "source": [
    "import seaborn as sns\n",
    "import pandas as pd\n",
    "import matplotlib.pyplot as plt\n",
    "import math\n",
    "from sklearn.linear_model import LinearRegression\n",
    "from sklearn.model_selection import train_test_split\n",
    "from sklearn.metrics import mean_squared_error\n",
    "from sklearn.metrics import r2_score\n",
    "\n",
    "df = pd.read_csv('data Mashable.csv')\n",
    "df.head(5)"
   ]
  },
  {
   "cell_type": "markdown",
   "metadata": {},
   "source": [
    "# How linear regression works"
   ]
  },
  {
   "cell_type": "markdown",
   "metadata": {},
   "source": [
    "A model that depends on the y(dependend) and x(independed) variabel, to be able to predict. The model is a straight line."
   ]
  },
  {
   "cell_type": "markdown",
   "metadata": {},
   "source": [
    "# Pre-processing steps"
   ]
  },
  {
   "cell_type": "markdown",
   "metadata": {},
   "source": [
    "Make a subset with five variabels from the original dataframe that could help predict the shares."
   ]
  },
  {
   "cell_type": "code",
   "execution_count": 5,
   "metadata": {},
   "outputs": [
    {
     "data": {
      "text/html": [
       "<div>\n",
       "<style scoped>\n",
       "    .dataframe tbody tr th:only-of-type {\n",
       "        vertical-align: middle;\n",
       "    }\n",
       "\n",
       "    .dataframe tbody tr th {\n",
       "        vertical-align: top;\n",
       "    }\n",
       "\n",
       "    .dataframe thead th {\n",
       "        text-align: right;\n",
       "    }\n",
       "</style>\n",
       "<table border=\"1\" class=\"dataframe\">\n",
       "  <thead>\n",
       "    <tr style=\"text-align: right;\">\n",
       "      <th></th>\n",
       "      <th>global_subjectivity</th>\n",
       "      <th>num_imgs</th>\n",
       "      <th>n_tokens_content</th>\n",
       "      <th>is_weekend</th>\n",
       "      <th>title_subjectivity</th>\n",
       "    </tr>\n",
       "  </thead>\n",
       "  <tbody>\n",
       "    <tr>\n",
       "      <td>0</td>\n",
       "      <td>0.439379</td>\n",
       "      <td>12</td>\n",
       "      <td>821</td>\n",
       "      <td>0</td>\n",
       "      <td>0.666667</td>\n",
       "    </tr>\n",
       "    <tr>\n",
       "      <td>1</td>\n",
       "      <td>0.300454</td>\n",
       "      <td>6</td>\n",
       "      <td>489</td>\n",
       "      <td>0</td>\n",
       "      <td>0.000000</td>\n",
       "    </tr>\n",
       "    <tr>\n",
       "      <td>2</td>\n",
       "      <td>0.575486</td>\n",
       "      <td>0</td>\n",
       "      <td>131</td>\n",
       "      <td>0</td>\n",
       "      <td>0.000000</td>\n",
       "    </tr>\n",
       "    <tr>\n",
       "      <td>3</td>\n",
       "      <td>0.327220</td>\n",
       "      <td>2</td>\n",
       "      <td>556</td>\n",
       "      <td>0</td>\n",
       "      <td>0.000000</td>\n",
       "    </tr>\n",
       "    <tr>\n",
       "      <td>4</td>\n",
       "      <td>0.507709</td>\n",
       "      <td>18</td>\n",
       "      <td>880</td>\n",
       "      <td>0</td>\n",
       "      <td>0.000000</td>\n",
       "    </tr>\n",
       "    <tr>\n",
       "      <td>...</td>\n",
       "      <td>...</td>\n",
       "      <td>...</td>\n",
       "      <td>...</td>\n",
       "      <td>...</td>\n",
       "      <td>...</td>\n",
       "    </tr>\n",
       "    <tr>\n",
       "      <td>24994</td>\n",
       "      <td>0.448753</td>\n",
       "      <td>9</td>\n",
       "      <td>342</td>\n",
       "      <td>0</td>\n",
       "      <td>0.642857</td>\n",
       "    </tr>\n",
       "    <tr>\n",
       "      <td>24995</td>\n",
       "      <td>0.418081</td>\n",
       "      <td>1</td>\n",
       "      <td>243</td>\n",
       "      <td>0</td>\n",
       "      <td>0.000000</td>\n",
       "    </tr>\n",
       "    <tr>\n",
       "      <td>24996</td>\n",
       "      <td>0.486041</td>\n",
       "      <td>4</td>\n",
       "      <td>1334</td>\n",
       "      <td>1</td>\n",
       "      <td>0.288889</td>\n",
       "    </tr>\n",
       "    <tr>\n",
       "      <td>24997</td>\n",
       "      <td>0.627143</td>\n",
       "      <td>1</td>\n",
       "      <td>263</td>\n",
       "      <td>0</td>\n",
       "      <td>0.000000</td>\n",
       "    </tr>\n",
       "    <tr>\n",
       "      <td>24998</td>\n",
       "      <td>0.404953</td>\n",
       "      <td>2</td>\n",
       "      <td>932</td>\n",
       "      <td>0</td>\n",
       "      <td>0.200000</td>\n",
       "    </tr>\n",
       "  </tbody>\n",
       "</table>\n",
       "<p>24999 rows × 5 columns</p>\n",
       "</div>"
      ],
      "text/plain": [
       "       global_subjectivity  num_imgs  n_tokens_content  is_weekend  \\\n",
       "0                 0.439379        12               821           0   \n",
       "1                 0.300454         6               489           0   \n",
       "2                 0.575486         0               131           0   \n",
       "3                 0.327220         2               556           0   \n",
       "4                 0.507709        18               880           0   \n",
       "...                    ...       ...               ...         ...   \n",
       "24994             0.448753         9               342           0   \n",
       "24995             0.418081         1               243           0   \n",
       "24996             0.486041         4              1334           1   \n",
       "24997             0.627143         1               263           0   \n",
       "24998             0.404953         2               932           0   \n",
       "\n",
       "       title_subjectivity  \n",
       "0                0.666667  \n",
       "1                0.000000  \n",
       "2                0.000000  \n",
       "3                0.000000  \n",
       "4                0.000000  \n",
       "...                   ...  \n",
       "24994            0.642857  \n",
       "24995            0.000000  \n",
       "24996            0.288889  \n",
       "24997            0.000000  \n",
       "24998            0.200000  \n",
       "\n",
       "[24999 rows x 5 columns]"
      ]
     },
     "execution_count": 5,
     "metadata": {},
     "output_type": "execute_result"
    }
   ],
   "source": [
    "df_subset = df[[\"global_subjectivity\", \"num_imgs\", \"n_tokens_content\",\"is_weekend\",\"title_subjectivity\"]]\n",
    "df_subset"
   ]
  },
  {
   "cell_type": "markdown",
   "metadata": {},
   "source": [
    "# Whats the target?"
   ]
  },
  {
   "cell_type": "markdown",
   "metadata": {},
   "source": [
    "These 5 variables could be facters that determin the amount of shares. \n",
    "<p>\n",
    "    <b>Title</b> is important, thats what attracts people, and <b>images</b> in an article make the article more intressting. If the article is posted on the <b>weekend</b> might help increase the shares, because people are more active and social on the weekend. The <b>global subjectivity</b> might appeall to more people in general. \n"
   ]
  },
  {
   "cell_type": "markdown",
   "metadata": {},
   "source": [
    "# Splitting the dataset into a training and test set"
   ]
  },
  {
   "cell_type": "markdown",
   "metadata": {},
   "source": [
    "Splitting the dataset so that we can first train the model and then test it. By doing so, we can see if we have the same results. \n",
    "\n",
    "<b>test_size</b> = splitting the data into 70% training data and 30% test data"
   ]
  },
  {
   "cell_type": "code",
   "execution_count": 6,
   "metadata": {},
   "outputs": [
    {
     "data": {
      "text/html": [
       "<div>\n",
       "<style scoped>\n",
       "    .dataframe tbody tr th:only-of-type {\n",
       "        vertical-align: middle;\n",
       "    }\n",
       "\n",
       "    .dataframe tbody tr th {\n",
       "        vertical-align: top;\n",
       "    }\n",
       "\n",
       "    .dataframe thead th {\n",
       "        text-align: right;\n",
       "    }\n",
       "</style>\n",
       "<table border=\"1\" class=\"dataframe\">\n",
       "  <thead>\n",
       "    <tr style=\"text-align: right;\">\n",
       "      <th></th>\n",
       "      <th>global_subjectivity</th>\n",
       "      <th>num_imgs</th>\n",
       "      <th>n_tokens_content</th>\n",
       "      <th>is_weekend</th>\n",
       "      <th>title_subjectivity</th>\n",
       "    </tr>\n",
       "    <tr>\n",
       "      <th>url</th>\n",
       "      <th></th>\n",
       "      <th></th>\n",
       "      <th></th>\n",
       "      <th></th>\n",
       "      <th></th>\n",
       "    </tr>\n",
       "  </thead>\n",
       "  <tbody>\n",
       "    <tr>\n",
       "      <td>http://mashable.com/2013/10/29/ashton-kutcher-lenovo/</td>\n",
       "      <td>0.439379</td>\n",
       "      <td>12</td>\n",
       "      <td>821</td>\n",
       "      <td>0</td>\n",
       "      <td>0.666667</td>\n",
       "    </tr>\n",
       "    <tr>\n",
       "      <td>http://mashable.com/2014/09/08/mashies-sept-19-deadline/</td>\n",
       "      <td>0.300454</td>\n",
       "      <td>6</td>\n",
       "      <td>489</td>\n",
       "      <td>0</td>\n",
       "      <td>0.000000</td>\n",
       "    </tr>\n",
       "    <tr>\n",
       "      <td>http://mashable.com/2013/02/01/hello-kitty-rocket/</td>\n",
       "      <td>0.575486</td>\n",
       "      <td>0</td>\n",
       "      <td>131</td>\n",
       "      <td>0</td>\n",
       "      <td>0.000000</td>\n",
       "    </tr>\n",
       "    <tr>\n",
       "      <td>http://mashable.com/2014/02/06/add-us-on-snapchat/</td>\n",
       "      <td>0.327220</td>\n",
       "      <td>2</td>\n",
       "      <td>556</td>\n",
       "      <td>0</td>\n",
       "      <td>0.000000</td>\n",
       "    </tr>\n",
       "    <tr>\n",
       "      <td>http://mashable.com/2014/01/07/lindsey-vonn-withdraws-sochi-olympics-knee-injury/</td>\n",
       "      <td>0.507709</td>\n",
       "      <td>18</td>\n",
       "      <td>880</td>\n",
       "      <td>0</td>\n",
       "      <td>0.000000</td>\n",
       "    </tr>\n",
       "  </tbody>\n",
       "</table>\n",
       "</div>"
      ],
      "text/plain": [
       "                                                    global_subjectivity  \\\n",
       "url                                                                       \n",
       "http://mashable.com/2013/10/29/ashton-kutcher-l...             0.439379   \n",
       "http://mashable.com/2014/09/08/mashies-sept-19-...             0.300454   \n",
       "http://mashable.com/2013/02/01/hello-kitty-rocket/             0.575486   \n",
       "http://mashable.com/2014/02/06/add-us-on-snapchat/             0.327220   \n",
       "http://mashable.com/2014/01/07/lindsey-vonn-wit...             0.507709   \n",
       "\n",
       "                                                    num_imgs  \\\n",
       "url                                                            \n",
       "http://mashable.com/2013/10/29/ashton-kutcher-l...        12   \n",
       "http://mashable.com/2014/09/08/mashies-sept-19-...         6   \n",
       "http://mashable.com/2013/02/01/hello-kitty-rocket/         0   \n",
       "http://mashable.com/2014/02/06/add-us-on-snapchat/         2   \n",
       "http://mashable.com/2014/01/07/lindsey-vonn-wit...        18   \n",
       "\n",
       "                                                    n_tokens_content  \\\n",
       "url                                                                    \n",
       "http://mashable.com/2013/10/29/ashton-kutcher-l...               821   \n",
       "http://mashable.com/2014/09/08/mashies-sept-19-...               489   \n",
       "http://mashable.com/2013/02/01/hello-kitty-rocket/               131   \n",
       "http://mashable.com/2014/02/06/add-us-on-snapchat/               556   \n",
       "http://mashable.com/2014/01/07/lindsey-vonn-wit...               880   \n",
       "\n",
       "                                                    is_weekend  \\\n",
       "url                                                              \n",
       "http://mashable.com/2013/10/29/ashton-kutcher-l...           0   \n",
       "http://mashable.com/2014/09/08/mashies-sept-19-...           0   \n",
       "http://mashable.com/2013/02/01/hello-kitty-rocket/           0   \n",
       "http://mashable.com/2014/02/06/add-us-on-snapchat/           0   \n",
       "http://mashable.com/2014/01/07/lindsey-vonn-wit...           0   \n",
       "\n",
       "                                                    title_subjectivity  \n",
       "url                                                                     \n",
       "http://mashable.com/2013/10/29/ashton-kutcher-l...            0.666667  \n",
       "http://mashable.com/2014/09/08/mashies-sept-19-...            0.000000  \n",
       "http://mashable.com/2013/02/01/hello-kitty-rocket/            0.000000  \n",
       "http://mashable.com/2014/02/06/add-us-on-snapchat/            0.000000  \n",
       "http://mashable.com/2014/01/07/lindsey-vonn-wit...            0.000000  "
      ]
     },
     "execution_count": 6,
     "metadata": {},
     "output_type": "execute_result"
    }
   ],
   "source": [
    "y = df['shares_log'] #We need to take out shares as our Y-variable\n",
    "X = df_subset #these are the 5 factors that help predict the amount of shares\n",
    "X.index = df['url'] #the url is like the title/name/id of the variable\n",
    "X.head() #this is the train set"
   ]
  },
  {
   "cell_type": "code",
   "execution_count": 7,
   "metadata": {},
   "outputs": [
    {
     "data": {
      "text/html": [
       "<div>\n",
       "<style scoped>\n",
       "    .dataframe tbody tr th:only-of-type {\n",
       "        vertical-align: middle;\n",
       "    }\n",
       "\n",
       "    .dataframe tbody tr th {\n",
       "        vertical-align: top;\n",
       "    }\n",
       "\n",
       "    .dataframe thead th {\n",
       "        text-align: right;\n",
       "    }\n",
       "</style>\n",
       "<table border=\"1\" class=\"dataframe\">\n",
       "  <thead>\n",
       "    <tr style=\"text-align: right;\">\n",
       "      <th></th>\n",
       "      <th>global_subjectivity</th>\n",
       "      <th>num_imgs</th>\n",
       "      <th>n_tokens_content</th>\n",
       "      <th>is_weekend</th>\n",
       "      <th>title_subjectivity</th>\n",
       "    </tr>\n",
       "    <tr>\n",
       "      <th>url</th>\n",
       "      <th></th>\n",
       "      <th></th>\n",
       "      <th></th>\n",
       "      <th></th>\n",
       "      <th></th>\n",
       "    </tr>\n",
       "  </thead>\n",
       "  <tbody>\n",
       "    <tr>\n",
       "      <td>http://mashable.com/2013/02/03/puppy-bowl-online/</td>\n",
       "      <td>0.451711</td>\n",
       "      <td>0</td>\n",
       "      <td>141</td>\n",
       "      <td>1</td>\n",
       "      <td>0.500000</td>\n",
       "    </tr>\n",
       "    <tr>\n",
       "      <td>http://mashable.com/2014/09/11/bridesmaid-lost-dress-sydney/</td>\n",
       "      <td>0.476976</td>\n",
       "      <td>9</td>\n",
       "      <td>392</td>\n",
       "      <td>0</td>\n",
       "      <td>0.100000</td>\n",
       "    </tr>\n",
       "    <tr>\n",
       "      <td>http://mashable.com/2013/03/08/facebook-acquires-storylane/</td>\n",
       "      <td>0.488495</td>\n",
       "      <td>1</td>\n",
       "      <td>622</td>\n",
       "      <td>0</td>\n",
       "      <td>0.000000</td>\n",
       "    </tr>\n",
       "    <tr>\n",
       "      <td>http://mashable.com/2014/04/29/yahoo-mail-app-redesign/</td>\n",
       "      <td>0.545746</td>\n",
       "      <td>23</td>\n",
       "      <td>251</td>\n",
       "      <td>0</td>\n",
       "      <td>0.454545</td>\n",
       "    </tr>\n",
       "    <tr>\n",
       "      <td>http://mashable.com/2013/08/28/chef-knife-moves-video/</td>\n",
       "      <td>0.507042</td>\n",
       "      <td>13</td>\n",
       "      <td>940</td>\n",
       "      <td>0</td>\n",
       "      <td>0.750000</td>\n",
       "    </tr>\n",
       "  </tbody>\n",
       "</table>\n",
       "</div>"
      ],
      "text/plain": [
       "                                                    global_subjectivity  \\\n",
       "url                                                                       \n",
       "http://mashable.com/2013/02/03/puppy-bowl-online/              0.451711   \n",
       "http://mashable.com/2014/09/11/bridesmaid-lost-...             0.476976   \n",
       "http://mashable.com/2013/03/08/facebook-acquire...             0.488495   \n",
       "http://mashable.com/2014/04/29/yahoo-mail-app-r...             0.545746   \n",
       "http://mashable.com/2013/08/28/chef-knife-moves...             0.507042   \n",
       "\n",
       "                                                    num_imgs  \\\n",
       "url                                                            \n",
       "http://mashable.com/2013/02/03/puppy-bowl-online/          0   \n",
       "http://mashable.com/2014/09/11/bridesmaid-lost-...         9   \n",
       "http://mashable.com/2013/03/08/facebook-acquire...         1   \n",
       "http://mashable.com/2014/04/29/yahoo-mail-app-r...        23   \n",
       "http://mashable.com/2013/08/28/chef-knife-moves...        13   \n",
       "\n",
       "                                                    n_tokens_content  \\\n",
       "url                                                                    \n",
       "http://mashable.com/2013/02/03/puppy-bowl-online/                141   \n",
       "http://mashable.com/2014/09/11/bridesmaid-lost-...               392   \n",
       "http://mashable.com/2013/03/08/facebook-acquire...               622   \n",
       "http://mashable.com/2014/04/29/yahoo-mail-app-r...               251   \n",
       "http://mashable.com/2013/08/28/chef-knife-moves...               940   \n",
       "\n",
       "                                                    is_weekend  \\\n",
       "url                                                              \n",
       "http://mashable.com/2013/02/03/puppy-bowl-online/            1   \n",
       "http://mashable.com/2014/09/11/bridesmaid-lost-...           0   \n",
       "http://mashable.com/2013/03/08/facebook-acquire...           0   \n",
       "http://mashable.com/2014/04/29/yahoo-mail-app-r...           0   \n",
       "http://mashable.com/2013/08/28/chef-knife-moves...           0   \n",
       "\n",
       "                                                    title_subjectivity  \n",
       "url                                                                     \n",
       "http://mashable.com/2013/02/03/puppy-bowl-online/             0.500000  \n",
       "http://mashable.com/2014/09/11/bridesmaid-lost-...            0.100000  \n",
       "http://mashable.com/2013/03/08/facebook-acquire...            0.000000  \n",
       "http://mashable.com/2014/04/29/yahoo-mail-app-r...            0.454545  \n",
       "http://mashable.com/2013/08/28/chef-knife-moves...            0.750000  "
      ]
     },
     "execution_count": 7,
     "metadata": {},
     "output_type": "execute_result"
    }
   ],
   "source": [
    "X_train, X_test, y_train, y_test = train_test_split(X, y, test_size=0.3, random_state=1) #split the data, store it into different variables\n",
    "X_train.head() # this is the train set"
   ]
  },
  {
   "cell_type": "markdown",
   "metadata": {},
   "source": [
    "# Training a linear regression model to predict the number of shares, using the 5 variables"
   ]
  },
  {
   "cell_type": "code",
   "execution_count": 8,
   "metadata": {},
   "outputs": [],
   "source": [
    "lm = LinearRegression() #create the model\n",
    "model = lm.fit(X_train, y_train) #train the model"
   ]
  },
  {
   "cell_type": "code",
   "execution_count": 9,
   "metadata": {},
   "outputs": [
    {
     "data": {
      "text/html": [
       "<div>\n",
       "<style scoped>\n",
       "    .dataframe tbody tr th:only-of-type {\n",
       "        vertical-align: middle;\n",
       "    }\n",
       "\n",
       "    .dataframe tbody tr th {\n",
       "        vertical-align: top;\n",
       "    }\n",
       "\n",
       "    .dataframe thead th {\n",
       "        text-align: right;\n",
       "    }\n",
       "</style>\n",
       "<table border=\"1\" class=\"dataframe\">\n",
       "  <thead>\n",
       "    <tr style=\"text-align: right;\">\n",
       "      <th></th>\n",
       "      <th>0</th>\n",
       "    </tr>\n",
       "  </thead>\n",
       "  <tbody>\n",
       "    <tr>\n",
       "      <td>0.294769</td>\n",
       "      <td>global_subjectivity</td>\n",
       "    </tr>\n",
       "    <tr>\n",
       "      <td>0.003892</td>\n",
       "      <td>num_imgs</td>\n",
       "    </tr>\n",
       "    <tr>\n",
       "      <td>-0.000015</td>\n",
       "      <td>n_tokens_content</td>\n",
       "    </tr>\n",
       "    <tr>\n",
       "      <td>0.127856</td>\n",
       "      <td>is_weekend</td>\n",
       "    </tr>\n",
       "    <tr>\n",
       "      <td>0.037169</td>\n",
       "      <td>title_subjectivity</td>\n",
       "    </tr>\n",
       "  </tbody>\n",
       "</table>\n",
       "</div>"
      ],
      "text/plain": [
       "                             0\n",
       " 0.294769  global_subjectivity\n",
       " 0.003892             num_imgs\n",
       "-0.000015     n_tokens_content\n",
       " 0.127856           is_weekend\n",
       " 0.037169   title_subjectivity"
      ]
     },
     "execution_count": 9,
     "metadata": {},
     "output_type": "execute_result"
    }
   ],
   "source": [
    "coef = pd.DataFrame(X.columns.values, lm.coef_) #this creates a df with a column with the column names, and the coefficients of the model\n",
    "coef"
   ]
  },
  {
   "cell_type": "markdown",
   "metadata": {},
   "source": [
    "The highest coefficient is the global subjectivity, this means that that variable has the most correlation on the target."
   ]
  },
  {
   "cell_type": "markdown",
   "metadata": {},
   "source": [
    "After training the model, we put the test data in the model."
   ]
  },
  {
   "cell_type": "code",
   "execution_count": 10,
   "metadata": {},
   "outputs": [],
   "source": [
    "y_pred = lm.predict(X_test) #generate the predictions\n",
    "resid = y_pred - y_test #get the residuals by subtracting the prediction from the actual shares"
   ]
  },
  {
   "cell_type": "markdown",
   "metadata": {},
   "source": [
    "Plots of the residuals"
   ]
  },
  {
   "cell_type": "code",
   "execution_count": 11,
   "metadata": {},
   "outputs": [
    {
     "data": {
      "image/png": "[encoded data removed]",
      "text/plain": [
       "<Figure size 432x288 with 1 Axes>"
      ]
     },
     "metadata": {
      "needs_background": "light"
     },
     "output_type": "display_data"
    }
   ],
   "source": [
    "sns.scatterplot(x=y_test,y=resid,data=df)\n",
    "plt.xlabel('Subscribers')\n",
    "plt.ylabel('Residuals (views)')\n",
    "plt.show()"
   ]
  },
  {
   "cell_type": "markdown",
   "metadata": {},
   "source": [
    "This <i>plot</i> shows that the errors are not that far off. When there are 5 shares, the model added +2 shares, so the models corrects it by subtracting -2 shares."
   ]
  },
  {
   "cell_type": "markdown",
   "metadata": {},
   "source": [
    "Now we can <i>plot</i> the predicted shares with the actual shares."
   ]
  },
  {
   "cell_type": "code",
   "execution_count": 12,
   "metadata": {},
   "outputs": [
    {
     "data": {
      "image/png": "[encoded data removed]",
      "text/plain": [
       "<Figure size 432x288 with 1 Axes>"
      ]
     },
     "metadata": {
      "needs_background": "light"
     },
     "output_type": "display_data"
    }
   ],
   "source": [
    "sns.scatterplot(x=y_test,y=y_pred)\n",
    "plt.xlabel('shares (log)')\n",
    "plt.ylabel('predicted shares (log)')\n",
    "plt.show()"
   ]
  },
  {
   "cell_type": "markdown",
   "metadata": {},
   "source": [
    "This <i>plot</i> shows that the predicted shares are not very far of the actual shares. "
   ]
  },
  {
   "cell_type": "markdown",
   "metadata": {},
   "source": [
    "sns.lmplot(x=X_test, y=y_test, fit_reg=True, data=df) #fit_reg=False leaves out the regression line; see below\n",
    "#plt.xlabel('shares log') #use matplotlib to refine Seaborn plot\n",
    "#plt.ylabel('resid')\n",
    "#plt.title('title & shares')\n",
    "plt.show()"
   ]
  },
  {
   "cell_type": "code",
   "execution_count": 13,
   "metadata": {},
   "outputs": [
    {
     "data": {
      "text/plain": [
       "0.025697296641941425"
      ]
     },
     "execution_count": 13,
     "metadata": {},
     "output_type": "execute_result"
    }
   ],
   "source": [
    "y_test_p = lm.predict(X_test) #Generate predictions for the test data. So we use X.test, not X.train\n",
    "r2_score(y_test, y_test_p)"
   ]
  },
  {
   "cell_type": "markdown",
   "metadata": {},
   "source": [
    "This <b>model</b> has 0.02% accuracy, which is not good. "
   ]
  },
  {
   "cell_type": "code",
   "execution_count": 14,
   "metadata": {},
   "outputs": [
    {
     "data": {
      "text/plain": [
       "0.4007806707933104"
      ]
     },
     "execution_count": 14,
     "metadata": {},
     "output_type": "execute_result"
    }
   ],
   "source": [
    "import math\n",
    "from sklearn.metrics import mean_squared_error\n",
    "math.sqrt(mean_squared_error(y_test, y_test_p))"
   ]
  },
  {
   "cell_type": "markdown",
   "metadata": {},
   "source": [
    "The RMSE is 0.40. This means that 0.40 off the predicting."
   ]
  },
  {
   "cell_type": "code",
   "execution_count": 22,
   "metadata": {},
   "outputs": [
    {
     "data": {
      "image/png": "[encoded data removed]",
      "text/plain": [
       "<Figure size 432x288 with 1 Axes>"
      ]
     },
     "metadata": {
      "needs_background": "light"
     },
     "output_type": "display_data"
    }
   ],
   "source": [
    "sns.scatterplot(y_test, y_test_p)\n",
    "plt.xlabel('Actual shares')\n",
    "plt.ylabel('Predicted shares')\n",
    "plt.xlim([1,6]) #Forcing the x- and y-axis to be the same length, so that we can compare \n",
    "plt.ylim([1,6])\n",
    "plt.plot([1, 6], [1, 6], color='pink', lw=3) #Plot a diagonal length\n",
    "plt.show()"
   ]
  },
  {
   "cell_type": "markdown",
   "metadata": {},
   "source": [
    "The <b>model</b> doenst work well. Line is not flowing with the predictions. The only bit in the model is correct, the rest 99.89% is off. "
   ]
  }
 ],
 "metadata": {
  "kernelspec": {
   "display_name": "Python 3",
   "language": "python",
   "name": "python3"
  },
  "language_info": {
   "codemirror_mode": {
    "name": "ipython",
    "version": 3
   },
   "file_extension": ".py",
   "mimetype": "text/x-python",
   "name": "python",
   "nbconvert_exporter": "python",
   "pygments_lexer": "ipython3",
   "version": "3.7.3"
  }
 },
 "nbformat": 4,
 "nbformat_minor": 2
}
